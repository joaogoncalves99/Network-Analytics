{
 "cells": [
  {
   "cell_type": "markdown",
   "metadata": {
    "dotnet_interactive": {
     "language": "fsharp"
    },
    "polyglot_notebook": {
     "kernelName": "fsharp"
    }
   },
   "source": [
    "[![Binder](img/badge-binder.svg)](https://mybinder.org/v2/gh/nhirschey/teaching/gh-pages?filepath=stocksandbonds.ipynb)&emsp;\n",
    "[![Script](img/badge-script.svg)](/Teaching//stocksandbonds.fsx)&emsp;\n",
    "[![Notebook](img/badge-notebook.svg)](/Teaching//stocksandbonds.ipynb)\n",
    "\n",
    "# Stocks for the long run, this time with both stocks and bonds\n",
    "\n"
   ]
  },
  {
   "cell_type": "code",
   "execution_count": 10,
   "metadata": {
    "dotnet_interactive": {
     "language": "fsharp"
    },
    "polyglot_notebook": {
     "kernelName": "fsharp"
    },
    "vscode": {
     "languageId": "polyglot-notebook"
    }
   },
   "outputs": [
    {
     "data": {
      "text/html": [
       "<div><div></div><div></div><div><strong>Installed Packages</strong><ul><li><span>ExcelProvider, 2.0.0</span></li><li><span>FSharp.Stats, 0.4.11</span></li><li><span>Plotly.NET, 3.0.1</span></li><li><span>Plotly.NET.Interactive, 3.0.2</span></li></ul></div></div>"
      ]
     },
     "metadata": {},
     "output_type": "display_data"
    }
   ],
   "source": [
    "#r \"nuget: ExcelProvider, 2.0.0\"\n",
    "#r \"nuget: FSharp.Stats\"\n",
    "#r \"nuget: Plotly.NET\"\n",
    "#r \"nuget: Plotly.NET.Interactive\"\n",
    "\n",
    "\n",
    "open FSharp.Interop.Excel\n",
    "open System\n",
    "open System.Net\n",
    "\n",
    "open FSharp.Stats\n",
    "open Plotly.NET\n",
    "\n",
    "Environment.CurrentDirectory <- __SOURCE_DIRECTORY__\n"
   ]
  },
  {
   "cell_type": "markdown",
   "metadata": {
    "dotnet_interactive": {
     "language": "fsharp"
    },
    "polyglot_notebook": {
     "kernelName": "fsharp"
    }
   },
   "source": [
    "A function to download a file. Don't worry about the specifics of the code in this function.\n",
    "\n"
   ]
  },
  {
   "cell_type": "code",
   "execution_count": 11,
   "metadata": {
    "dotnet_interactive": {
     "language": "fsharp"
    },
    "polyglot_notebook": {
     "kernelName": "fsharp"
    },
    "vscode": {
     "languageId": "polyglot-notebook"
    }
   },
   "outputs": [],
   "source": [
    "let download (inputUrl: string) (outputFile: string) =\n",
    "    if IO.File.Exists(outputFile) then\n",
    "        printfn $\"The file {outputFile} already exists. Skipping download\" \n",
    "    else\n",
    "        use fileStream = IO.File.Create(outputFile)\n",
    "        use http = new Http.HttpClient()\n",
    "        use urlStream = http.GetStreamAsync(inputUrl).Result\n",
    "        urlStream.CopyTo(fileStream)\n"
   ]
  },
  {
   "cell_type": "markdown",
   "metadata": {
    "dotnet_interactive": {
     "language": "fsharp"
    },
    "polyglot_notebook": {
     "kernelName": "fsharp"
    }
   },
   "source": [
    "Download the excel file from Robert Shiller's website to your current directory.\n",
    "\n"
   ]
  },
  {
   "cell_type": "code",
   "execution_count": 12,
   "metadata": {
    "dotnet_interactive": {
     "language": "fsharp"
    },
    "polyglot_notebook": {
     "kernelName": "fsharp"
    },
    "vscode": {
     "languageId": "polyglot-notebook"
    }
   },
   "outputs": [],
   "source": [
    "download \"http://www.econ.yale.edu/~shiller/data/ie_data.xls\" \"shiller_data.xls\"\n"
   ]
  },
  {
   "cell_type": "code",
   "execution_count": 13,
   "metadata": {
    "dotnet_interactive": {
     "language": "fsharp"
    },
    "polyglot_notebook": {
     "kernelName": "fsharp"
    },
    "vscode": {
     "languageId": "polyglot-notebook"
    }
   },
   "outputs": [],
   "source": [
    "let [<Literal>] shillerFile = __SOURCE_DIRECTORY__ + \"/shiller_data.xls\"\n",
    "type ShillerXls = ExcelFile<shillerFile,SheetName=\"Data\",Range=\"A8:V2000\",ForceString = true>\n",
    "\n",
    "let shiller = \n",
    "    ShillerXls().Data |> Seq.toList\n"
   ]
  },
  {
   "cell_type": "markdown",
   "metadata": {
    "dotnet_interactive": {
     "language": "fsharp"
    },
    "polyglot_notebook": {
     "kernelName": "fsharp"
    }
   },
   "source": [
    "Let's look at the dates.\n",
    "\n"
   ]
  },
  {
   "cell_type": "code",
   "execution_count": 14,
   "metadata": {
    "dotnet_interactive": {
     "language": "fsharp"
    },
    "polyglot_notebook": {
     "kernelName": "fsharp"
    },
    "vscode": {
     "languageId": "polyglot-notebook"
    }
   },
   "outputs": [
    {
     "data": {
      "text/html": [
       "<table><thead><tr><th><i>index</i></th><th>value</th></tr></thead><tbody><tr><td>0</td><td>1871.01</td></tr><tr><td>1</td><td>1871.02</td></tr><tr><td>2</td><td>1871.03</td></tr><tr><td>3</td><td>1871.04</td></tr><tr><td>4</td><td>1871.05</td></tr><tr><td>5</td><td>1871.06</td></tr><tr><td>6</td><td>1871.07</td></tr><tr><td>7</td><td>1871.08</td></tr></tbody></table><style>\r\n",
       ".dni-code-hint {\r\n",
       "    font-style: italic;\r\n",
       "    overflow: hidden;\r\n",
       "    white-space: nowrap;\r\n",
       "}\r\n",
       ".dni-treeview {\r\n",
       "    white-space: nowrap;\r\n",
       "}\r\n",
       ".dni-treeview td {\r\n",
       "    vertical-align: top;\r\n",
       "    text-align: start;\r\n",
       "}\r\n",
       "details.dni-treeview {\r\n",
       "    padding-left: 1em;\r\n",
       "}\r\n",
       "table td {\r\n",
       "    text-align: start;\r\n",
       "}\r\n",
       "table tr { \r\n",
       "    vertical-align: top; \r\n",
       "    margin: 0em 0px;\r\n",
       "}\r\n",
       "table tr td pre \r\n",
       "{ \r\n",
       "    vertical-align: top !important; \r\n",
       "    margin: 0em 0px !important;\r\n",
       "} \r\n",
       "table th {\r\n",
       "    text-align: start;\r\n",
       "}\r\n",
       "</style>"
      ]
     },
     "metadata": {},
     "output_type": "display_data"
    }
   ],
   "source": [
    "shiller[..7] |> List.map (fun x -> x.Date)\n"
   ]
  },
  {
   "cell_type": "markdown",
   "metadata": {
    "dotnet_interactive": {
     "language": "fsharp"
    },
    "polyglot_notebook": {
     "kernelName": "fsharp"
    }
   },
   "source": [
    "Remember that is the same as\n",
    "\n"
   ]
  },
  {
   "cell_type": "code",
   "execution_count": 15,
   "metadata": {
    "dotnet_interactive": {
     "language": "fsharp"
    },
    "polyglot_notebook": {
     "kernelName": "fsharp"
    },
    "vscode": {
     "languageId": "polyglot-notebook"
    }
   },
   "outputs": [
    {
     "data": {
      "text/html": [
       "<table><thead><tr><th><i>index</i></th><th>value</th></tr></thead><tbody><tr><td>0</td><td>1871.01</td></tr><tr><td>1</td><td>1871.02</td></tr><tr><td>2</td><td>1871.03</td></tr><tr><td>3</td><td>1871.04</td></tr><tr><td>4</td><td>1871.05</td></tr><tr><td>5</td><td>1871.06</td></tr><tr><td>6</td><td>1871.07</td></tr><tr><td>7</td><td>1871.08</td></tr></tbody></table><style>\r\n",
       ".dni-code-hint {\r\n",
       "    font-style: italic;\r\n",
       "    overflow: hidden;\r\n",
       "    white-space: nowrap;\r\n",
       "}\r\n",
       ".dni-treeview {\r\n",
       "    white-space: nowrap;\r\n",
       "}\r\n",
       ".dni-treeview td {\r\n",
       "    vertical-align: top;\r\n",
       "    text-align: start;\r\n",
       "}\r\n",
       "details.dni-treeview {\r\n",
       "    padding-left: 1em;\r\n",
       "}\r\n",
       "table td {\r\n",
       "    text-align: start;\r\n",
       "}\r\n",
       "table tr { \r\n",
       "    vertical-align: top; \r\n",
       "    margin: 0em 0px;\r\n",
       "}\r\n",
       "table tr td pre \r\n",
       "{ \r\n",
       "    vertical-align: top !important; \r\n",
       "    margin: 0em 0px !important;\r\n",
       "} \r\n",
       "table th {\r\n",
       "    text-align: start;\r\n",
       "}\r\n",
       "</style>"
      ]
     },
     "metadata": {},
     "output_type": "display_data"
    }
   ],
   "source": [
    "[ for x in shiller[..7] do x.Date ]\n"
   ]
  },
  {
   "cell_type": "markdown",
   "metadata": {
    "dotnet_interactive": {
     "language": "fsharp"
    },
    "polyglot_notebook": {
     "kernelName": "fsharp"
    }
   },
   "source": [
    "Function to parse the dates.\n",
    "\n"
   ]
  },
  {
   "cell_type": "code",
   "execution_count": 16,
   "metadata": {
    "dotnet_interactive": {
     "language": "fsharp"
    },
    "polyglot_notebook": {
     "kernelName": "fsharp"
    },
    "vscode": {
     "languageId": "polyglot-notebook"
    }
   },
   "outputs": [],
   "source": [
    "let parseDate (x: ShillerXls.Row) =\n",
    "    let year = int x.Date[..3]\n",
    "    let month = \n",
    "        let m = x.Date[5..]\n",
    "        if m = \"1\" then 10 else int m\n",
    "    DateTime(year, month, 1)\n"
   ]
  },
  {
   "cell_type": "markdown",
   "metadata": {
    "dotnet_interactive": {
     "language": "fsharp"
    },
    "polyglot_notebook": {
     "kernelName": "fsharp"
    }
   },
   "source": [
    "Parse the first few dates.\n",
    "\n"
   ]
  },
  {
   "cell_type": "code",
   "execution_count": 17,
   "metadata": {
    "dotnet_interactive": {
     "language": "fsharp"
    },
    "polyglot_notebook": {
     "kernelName": "fsharp"
    },
    "vscode": {
     "languageId": "polyglot-notebook"
    }
   },
   "outputs": [
    {
     "data": {
      "text/html": [
       "<table><thead><tr><th><i>index</i></th><th>Item1</th><th>Item2</th></tr></thead><tbody><tr><td>0</td><td>1871.01</td><td><span>1871-01-01 00:00:00Z</span></td></tr><tr><td>1</td><td>1871.02</td><td><span>1871-02-01 00:00:00Z</span></td></tr><tr><td>2</td><td>1871.03</td><td><span>1871-03-01 00:00:00Z</span></td></tr><tr><td>3</td><td>1871.04</td><td><span>1871-04-01 00:00:00Z</span></td></tr><tr><td>4</td><td>1871.05</td><td><span>1871-05-01 00:00:00Z</span></td></tr><tr><td>5</td><td>1871.06</td><td><span>1871-06-01 00:00:00Z</span></td></tr><tr><td>6</td><td>1871.07</td><td><span>1871-07-01 00:00:00Z</span></td></tr><tr><td>7</td><td>1871.08</td><td><span>1871-08-01 00:00:00Z</span></td></tr></tbody></table><style>\r\n",
       ".dni-code-hint {\r\n",
       "    font-style: italic;\r\n",
       "    overflow: hidden;\r\n",
       "    white-space: nowrap;\r\n",
       "}\r\n",
       ".dni-treeview {\r\n",
       "    white-space: nowrap;\r\n",
       "}\r\n",
       ".dni-treeview td {\r\n",
       "    vertical-align: top;\r\n",
       "    text-align: start;\r\n",
       "}\r\n",
       "details.dni-treeview {\r\n",
       "    padding-left: 1em;\r\n",
       "}\r\n",
       "table td {\r\n",
       "    text-align: start;\r\n",
       "}\r\n",
       "table tr { \r\n",
       "    vertical-align: top; \r\n",
       "    margin: 0em 0px;\r\n",
       "}\r\n",
       "table tr td pre \r\n",
       "{ \r\n",
       "    vertical-align: top !important; \r\n",
       "    margin: 0em 0px !important;\r\n",
       "} \r\n",
       "table th {\r\n",
       "    text-align: start;\r\n",
       "}\r\n",
       "</style>"
      ]
     },
     "metadata": {},
     "output_type": "display_data"
    }
   ],
   "source": [
    "shiller[..7] \n",
    "|> List.map (fun x -> x.Date, parseDate x)\n"
   ]
  },
  {
   "cell_type": "markdown",
   "metadata": {
    "dotnet_interactive": {
     "language": "fsharp"
    },
    "polyglot_notebook": {
     "kernelName": "fsharp"
    }
   },
   "source": [
    "Check that we're getting the right data.\n",
    "\n"
   ]
  },
  {
   "cell_type": "code",
   "execution_count": 18,
   "metadata": {
    "dotnet_interactive": {
     "language": "fsharp"
    },
    "polyglot_notebook": {
     "kernelName": "fsharp"
    },
    "vscode": {
     "languageId": "polyglot-notebook"
    }
   },
   "outputs": [
    {
     "data": {
      "text/html": [
       "<table><thead><tr><th><i>index</i></th></tr></thead><tbody><tr><td>0</td></tr><tr><td>1</td></tr><tr><td>2</td></tr></tbody></table><style>\r\n",
       ".dni-code-hint {\r\n",
       "    font-style: italic;\r\n",
       "    overflow: hidden;\r\n",
       "    white-space: nowrap;\r\n",
       "}\r\n",
       ".dni-treeview {\r\n",
       "    white-space: nowrap;\r\n",
       "}\r\n",
       ".dni-treeview td {\r\n",
       "    vertical-align: top;\r\n",
       "    text-align: start;\r\n",
       "}\r\n",
       "details.dni-treeview {\r\n",
       "    padding-left: 1em;\r\n",
       "}\r\n",
       "table td {\r\n",
       "    text-align: start;\r\n",
       "}\r\n",
       "table tr { \r\n",
       "    vertical-align: top; \r\n",
       "    margin: 0em 0px;\r\n",
       "}\r\n",
       "table tr td pre \r\n",
       "{ \r\n",
       "    vertical-align: top !important; \r\n",
       "    margin: 0em 0px !important;\r\n",
       "} \r\n",
       "table th {\r\n",
       "    text-align: start;\r\n",
       "}\r\n",
       "</style>"
      ]
     },
     "metadata": {},
     "output_type": "display_data"
    }
   ],
   "source": [
    "shiller[1823..1825]\n"
   ]
  },
  {
   "cell_type": "markdown",
   "metadata": {
    "dotnet_interactive": {
     "language": "fsharp"
    },
    "polyglot_notebook": {
     "kernelName": "fsharp"
    }
   },
   "source": [
    "Some specific columns.\n",
    "\n"
   ]
  },
  {
   "cell_type": "code",
   "execution_count": 19,
   "metadata": {
    "dotnet_interactive": {
     "language": "fsharp"
    },
    "polyglot_notebook": {
     "kernelName": "fsharp"
    },
    "vscode": {
     "languageId": "polyglot-notebook"
    }
   },
   "outputs": [
    {
     "data": {
      "text/html": [
       "<table><thead><tr><th><i>index</i></th><th>Item1</th><th>Item2</th><th>Item3</th></tr></thead><tbody><tr><td>0</td><td>2022.12</td><td>66.92</td><td><div class=\"dni-plaintext\"><pre>&lt;null&gt;</pre></div></td></tr><tr><td>1</td><td>2023.01</td><td><div class=\"dni-plaintext\"><pre>&lt;null&gt;</pre></div></td><td><div class=\"dni-plaintext\"><pre>&lt;null&gt;</pre></div></td></tr><tr><td>2</td><td>2023.02</td><td><div class=\"dni-plaintext\"><pre>&lt;null&gt;</pre></div></td><td><div class=\"dni-plaintext\"><pre>&lt;null&gt;</pre></div></td></tr></tbody></table><style>\r\n",
       ".dni-code-hint {\r\n",
       "    font-style: italic;\r\n",
       "    overflow: hidden;\r\n",
       "    white-space: nowrap;\r\n",
       "}\r\n",
       ".dni-treeview {\r\n",
       "    white-space: nowrap;\r\n",
       "}\r\n",
       ".dni-treeview td {\r\n",
       "    vertical-align: top;\r\n",
       "    text-align: start;\r\n",
       "}\r\n",
       "details.dni-treeview {\r\n",
       "    padding-left: 1em;\r\n",
       "}\r\n",
       "table td {\r\n",
       "    text-align: start;\r\n",
       "}\r\n",
       "table tr { \r\n",
       "    vertical-align: top; \r\n",
       "    margin: 0em 0px;\r\n",
       "}\r\n",
       "table tr td pre \r\n",
       "{ \r\n",
       "    vertical-align: top !important; \r\n",
       "    margin: 0em 0px !important;\r\n",
       "} \r\n",
       "table th {\r\n",
       "    text-align: start;\r\n",
       "}\r\n",
       "</style>"
      ]
     },
     "metadata": {},
     "output_type": "display_data"
    }
   ],
   "source": [
    "shiller[1823..1825]\n",
    "|> List.map (fun x -> \n",
    "    x.Date, x.D, x.E)\n"
   ]
  },
  {
   "cell_type": "markdown",
   "metadata": {
    "dotnet_interactive": {
     "language": "fsharp"
    },
    "polyglot_notebook": {
     "kernelName": "fsharp"
    }
   },
   "source": [
    "Take the data until I get to those bad rows.\n",
    "\n"
   ]
  },
  {
   "cell_type": "code",
   "execution_count": 20,
   "metadata": {
    "dotnet_interactive": {
     "language": "fsharp"
    },
    "polyglot_notebook": {
     "kernelName": "fsharp"
    },
    "vscode": {
     "languageId": "polyglot-notebook"
    }
   },
   "outputs": [],
   "source": [
    "let shillerClean =\n",
    "    shiller\n",
    "    |> List.takeWhile (fun x -> \n",
    "        not (isNull x.Date) &&\n",
    "        not (isNull x.D) &&\n",
    "        not (isNull x.E))\n"
   ]
  },
  {
   "cell_type": "markdown",
   "metadata": {
    "dotnet_interactive": {
     "language": "fsharp"
    },
    "polyglot_notebook": {
     "kernelName": "fsharp"
    }
   },
   "source": [
    "The S&amp;P500 total (price + dividend) return index is the Price2 column.\n",
    "To calculate returns from it, we want to do $p1/p0$. We can do this using\n",
    "`List.pairwise`.\n",
    "\n"
   ]
  },
  {
   "cell_type": "code",
   "execution_count": 21,
   "metadata": {
    "dotnet_interactive": {
     "language": "fsharp"
    },
    "polyglot_notebook": {
     "kernelName": "fsharp"
    },
    "vscode": {
     "languageId": "polyglot-notebook"
    }
   },
   "outputs": [
    {
     "data": {
      "text/html": [
       "<table><thead><tr><th><i>index</i></th><th>Item1</th><th>Item2</th></tr></thead><tbody><tr><td>0</td><td><div class=\"dni-plaintext\"><pre>1</pre></div></td><td><div class=\"dni-plaintext\"><pre>2</pre></div></td></tr><tr><td>1</td><td><div class=\"dni-plaintext\"><pre>2</pre></div></td><td><div class=\"dni-plaintext\"><pre>3</pre></div></td></tr><tr><td>2</td><td><div class=\"dni-plaintext\"><pre>3</pre></div></td><td><div class=\"dni-plaintext\"><pre>4</pre></div></td></tr><tr><td>3</td><td><div class=\"dni-plaintext\"><pre>4</pre></div></td><td><div class=\"dni-plaintext\"><pre>5</pre></div></td></tr><tr><td>4</td><td><div class=\"dni-plaintext\"><pre>5</pre></div></td><td><div class=\"dni-plaintext\"><pre>6</pre></div></td></tr><tr><td>5</td><td><div class=\"dni-plaintext\"><pre>6</pre></div></td><td><div class=\"dni-plaintext\"><pre>7</pre></div></td></tr><tr><td>6</td><td><div class=\"dni-plaintext\"><pre>7</pre></div></td><td><div class=\"dni-plaintext\"><pre>8</pre></div></td></tr><tr><td>7</td><td><div class=\"dni-plaintext\"><pre>8</pre></div></td><td><div class=\"dni-plaintext\"><pre>9</pre></div></td></tr><tr><td>8</td><td><div class=\"dni-plaintext\"><pre>9</pre></div></td><td><div class=\"dni-plaintext\"><pre>10</pre></div></td></tr></tbody></table><style>\r\n",
       ".dni-code-hint {\r\n",
       "    font-style: italic;\r\n",
       "    overflow: hidden;\r\n",
       "    white-space: nowrap;\r\n",
       "}\r\n",
       ".dni-treeview {\r\n",
       "    white-space: nowrap;\r\n",
       "}\r\n",
       ".dni-treeview td {\r\n",
       "    vertical-align: top;\r\n",
       "    text-align: start;\r\n",
       "}\r\n",
       "details.dni-treeview {\r\n",
       "    padding-left: 1em;\r\n",
       "}\r\n",
       "table td {\r\n",
       "    text-align: start;\r\n",
       "}\r\n",
       "table tr { \r\n",
       "    vertical-align: top; \r\n",
       "    margin: 0em 0px;\r\n",
       "}\r\n",
       "table tr td pre \r\n",
       "{ \r\n",
       "    vertical-align: top !important; \r\n",
       "    margin: 0em 0px !important;\r\n",
       "} \r\n",
       "table th {\r\n",
       "    text-align: start;\r\n",
       "}\r\n",
       "</style>"
      ]
     },
     "metadata": {},
     "output_type": "display_data"
    }
   ],
   "source": [
    "[ 1..10] |> List.pairwise\n"
   ]
  },
  {
   "cell_type": "markdown",
   "metadata": {
    "dotnet_interactive": {
     "language": "fsharp"
    },
    "polyglot_notebook": {
     "kernelName": "fsharp"
    }
   },
   "source": [
    "With the price index ...\n",
    "\n"
   ]
  },
  {
   "cell_type": "code",
   "execution_count": 25,
   "metadata": {
    "dotnet_interactive": {
     "language": "fsharp"
    },
    "polyglot_notebook": {
     "kernelName": "fsharp"
    },
    "vscode": {
     "languageId": "polyglot-notebook"
    }
   },
   "outputs": [
    {
     "data": {
      "text/html": [
       "<table><thead><tr><th><i>index</i></th><th>Item1</th><th>Item2</th></tr></thead><tbody><tr><td>0</td><td><div class=\"dni-plaintext\"><pre>1</pre></div></td><td><div class=\"dni-plaintext\"><pre>2</pre></div></td></tr><tr><td>1</td><td><div class=\"dni-plaintext\"><pre>2</pre></div></td><td><div class=\"dni-plaintext\"><pre>3</pre></div></td></tr><tr><td>2</td><td><div class=\"dni-plaintext\"><pre>3</pre></div></td><td><div class=\"dni-plaintext\"><pre>4</pre></div></td></tr><tr><td>3</td><td><div class=\"dni-plaintext\"><pre>4</pre></div></td><td><div class=\"dni-plaintext\"><pre>5</pre></div></td></tr><tr><td>4</td><td><div class=\"dni-plaintext\"><pre>5</pre></div></td><td><div class=\"dni-plaintext\"><pre>6</pre></div></td></tr><tr><td>5</td><td><div class=\"dni-plaintext\"><pre>6</pre></div></td><td><div class=\"dni-plaintext\"><pre>7</pre></div></td></tr><tr><td>6</td><td><div class=\"dni-plaintext\"><pre>7</pre></div></td><td><div class=\"dni-plaintext\"><pre>8</pre></div></td></tr><tr><td>7</td><td><div class=\"dni-plaintext\"><pre>8</pre></div></td><td><div class=\"dni-plaintext\"><pre>9</pre></div></td></tr><tr><td>8</td><td><div class=\"dni-plaintext\"><pre>9</pre></div></td><td><div class=\"dni-plaintext\"><pre>10</pre></div></td></tr></tbody></table><style>\r\n",
       ".dni-code-hint {\r\n",
       "    font-style: italic;\r\n",
       "    overflow: hidden;\r\n",
       "    white-space: nowrap;\r\n",
       "}\r\n",
       ".dni-treeview {\r\n",
       "    white-space: nowrap;\r\n",
       "}\r\n",
       ".dni-treeview td {\r\n",
       "    vertical-align: top;\r\n",
       "    text-align: start;\r\n",
       "}\r\n",
       "details.dni-treeview {\r\n",
       "    padding-left: 1em;\r\n",
       "}\r\n",
       "table td {\r\n",
       "    text-align: start;\r\n",
       "}\r\n",
       "table tr { \r\n",
       "    vertical-align: top; \r\n",
       "    margin: 0em 0px;\r\n",
       "}\r\n",
       "table tr td pre \r\n",
       "{ \r\n",
       "    vertical-align: top !important; \r\n",
       "    margin: 0em 0px !important;\r\n",
       "} \r\n",
       "table th {\r\n",
       "    text-align: start;\r\n",
       "}\r\n",
       "</style>"
      ]
     },
     "metadata": {},
     "output_type": "display_data"
    }
   ],
   "source": [
    "[ 1..10] |> List.pairwise"
   ]
  },
  {
   "cell_type": "code",
   "execution_count": 22,
   "metadata": {
    "dotnet_interactive": {
     "language": "fsharp"
    },
    "polyglot_notebook": {
     "kernelName": "fsharp"
    },
    "vscode": {
     "languageId": "polyglot-notebook"
    }
   },
   "outputs": [
    {
     "data": {
      "text/html": [
       "<table><thead><tr><th><i>index</i></th><th>Item1</th><th>Item2</th></tr></thead><tbody><tr><td>0</td><td>105.48207707928161</td><td>104.23938402093636</td></tr><tr><td>1</td><td>104.23938402093636</td><td>105.72276211823235</td></tr><tr><td>2</td><td>105.72276211823235</td><td>113.33753785958646</td></tr><tr><td>3</td><td>113.33753785958646</td><td>119.43922944377377</td></tr><tr><td>4</td><td>119.43922944377377</td><td>120.86289662484913</td></tr></tbody></table><style>\r\n",
       ".dni-code-hint {\r\n",
       "    font-style: italic;\r\n",
       "    overflow: hidden;\r\n",
       "    white-space: nowrap;\r\n",
       "}\r\n",
       ".dni-treeview {\r\n",
       "    white-space: nowrap;\r\n",
       "}\r\n",
       ".dni-treeview td {\r\n",
       "    vertical-align: top;\r\n",
       "    text-align: start;\r\n",
       "}\r\n",
       "details.dni-treeview {\r\n",
       "    padding-left: 1em;\r\n",
       "}\r\n",
       "table td {\r\n",
       "    text-align: start;\r\n",
       "}\r\n",
       "table tr { \r\n",
       "    vertical-align: top; \r\n",
       "    margin: 0em 0px;\r\n",
       "}\r\n",
       "table tr td pre \r\n",
       "{ \r\n",
       "    vertical-align: top !important; \r\n",
       "    margin: 0em 0px !important;\r\n",
       "} \r\n",
       "table th {\r\n",
       "    text-align: start;\r\n",
       "}\r\n",
       "</style>"
      ]
     },
     "metadata": {},
     "output_type": "display_data"
    }
   ],
   "source": [
    "shillerClean[0..5] \n",
    "|> List.map (fun x -> x.Price2)\n",
    "|> List.pairwise\n"
   ]
  },
  {
   "cell_type": "markdown",
   "metadata": {
    "dotnet_interactive": {
     "language": "fsharp"
    },
    "polyglot_notebook": {
     "kernelName": "fsharp"
    }
   },
   "source": [
    "We'll calculate a log return.\n",
    "\n"
   ]
  },
  {
   "cell_type": "code",
   "execution_count": 23,
   "metadata": {
    "dotnet_interactive": {
     "language": "fsharp"
    },
    "polyglot_notebook": {
     "kernelName": "fsharp"
    },
    "vscode": {
     "languageId": "polyglot-notebook"
    }
   },
   "outputs": [
    {
     "data": {
      "text/html": [
       "<table><thead><tr><th><i>index</i></th><th>value</th></tr></thead><tbody><tr><td>0</td><td><div class=\"dni-plaintext\"><pre>-0.011851029419281357</pre></div></td></tr><tr><td>1</td><td><div class=\"dni-plaintext\"><pre>0.014130192567753434</pre></div></td></tr><tr><td>2</td><td><div class=\"dni-plaintext\"><pre>0.06955021088703581</pre></div></td></tr><tr><td>3</td><td><div class=\"dni-plaintext\"><pre>0.05243727478665406</pre></div></td></tr><tr><td>4</td><td><div class=\"dni-plaintext\"><pre>0.011849115623044226</pre></div></td></tr></tbody></table><style>\r\n",
       ".dni-code-hint {\r\n",
       "    font-style: italic;\r\n",
       "    overflow: hidden;\r\n",
       "    white-space: nowrap;\r\n",
       "}\r\n",
       ".dni-treeview {\r\n",
       "    white-space: nowrap;\r\n",
       "}\r\n",
       ".dni-treeview td {\r\n",
       "    vertical-align: top;\r\n",
       "    text-align: start;\r\n",
       "}\r\n",
       "details.dni-treeview {\r\n",
       "    padding-left: 1em;\r\n",
       "}\r\n",
       "table td {\r\n",
       "    text-align: start;\r\n",
       "}\r\n",
       "table tr { \r\n",
       "    vertical-align: top; \r\n",
       "    margin: 0em 0px;\r\n",
       "}\r\n",
       "table tr td pre \r\n",
       "{ \r\n",
       "    vertical-align: top !important; \r\n",
       "    margin: 0em 0px !important;\r\n",
       "} \r\n",
       "table th {\r\n",
       "    text-align: start;\r\n",
       "}\r\n",
       "</style>"
      ]
     },
     "metadata": {},
     "output_type": "display_data"
    }
   ],
   "source": [
    "shillerClean[0..5] \n",
    "|> List.map (fun x -> x.Price2)\n",
    "|> List.pairwise\n",
    "|> List.map (fun (x0, x1) -> log (float x1 / float x0))\n"
   ]
  },
  {
   "cell_type": "markdown",
   "metadata": {
    "dotnet_interactive": {
     "language": "fsharp"
    },
    "polyglot_notebook": {
     "kernelName": "fsharp"
    }
   },
   "source": [
    "A type to hold return data.\n",
    "\n"
   ]
  },
  {
   "cell_type": "code",
   "execution_count": 26,
   "metadata": {
    "dotnet_interactive": {
     "language": "fsharp"
    },
    "polyglot_notebook": {
     "kernelName": "fsharp"
    },
    "vscode": {
     "languageId": "polyglot-notebook"
    }
   },
   "outputs": [],
   "source": [
    "type ShillerObs =\n",
    "    {\n",
    "        Date: DateTime\n",
    "        /// S&P 500 log return\n",
    "        SP500RealReturn: float\n",
    "        /// 10-year US Treasury log return\n",
    "        GS10RealReturn: float\n",
    "        CAPE: float\n",
    "    }\n"
   ]
  },
  {
   "cell_type": "markdown",
   "metadata": {
    "dotnet_interactive": {
     "language": "fsharp"
    },
    "polyglot_notebook": {
     "kernelName": "fsharp"
    }
   },
   "source": [
    "Making our list of records containing stock and bond returns.\n",
    "\n"
   ]
  },
  {
   "cell_type": "code",
   "execution_count": 27,
   "metadata": {
    "dotnet_interactive": {
     "language": "fsharp"
    },
    "polyglot_notebook": {
     "kernelName": "fsharp"
    },
    "vscode": {
     "languageId": "polyglot-notebook"
    }
   },
   "outputs": [],
   "source": [
    "let shillerObs =\n",
    "    shillerClean\n",
    "    |> List.pairwise\n",
    "    |> List.map (fun (x0, x1) -> \n",
    "        {\n",
    "            Date = parseDate x1\n",
    "            SP500RealReturn = log ((float x1.Price2)/(float x0.Price2))\n",
    "            GS10RealReturn = log ((float x1.Returns2)/(float x0.Returns2))\n",
    "            CAPE = if x1.CAPE = \"NA\" then nan else float x1.CAPE\n",
    "        })\n"
   ]
  },
  {
   "cell_type": "code",
   "execution_count": 29,
   "metadata": {
    "dotnet_interactive": {
     "language": "fsharp"
    },
    "polyglot_notebook": {
     "kernelName": "fsharp"
    },
    "vscode": {
     "languageId": "polyglot-notebook"
    }
   },
   "outputs": [
    {
     "data": {
      "text/html": [
       "<table><thead><tr><th><i>index</i></th><th>Item1</th><th>Item2</th></tr></thead><tbody><tr><td>0</td><td><table><thead><tr><th>Date</th><th>SP500RealReturn</th><th>GS10RealReturn</th><th>CAPE</th></tr></thead><tbody><tr><td><div class=\"dni-plaintext\"><pre>1871-02-01 00:00:00Z</pre></div></td><td><div class=\"dni-plaintext\"><pre>-0.011851029419281357</pre></div></td><td><div class=\"dni-plaintext\"><pre>-0.025909073888584516</pre></div></td><td><div class=\"dni-plaintext\"><pre>NaN</pre></div></td></tr></tbody></table></td><td><table><thead><tr><th>Date</th><th>SP500RealReturn</th><th>GS10RealReturn</th><th>CAPE</th></tr></thead><tbody><tr><td><div class=\"dni-plaintext\"><pre>1871-03-01 00:00:00Z</pre></div></td><td><div class=\"dni-plaintext\"><pre>0.014130192567753434</pre></div></td><td><div class=\"dni-plaintext\"><pre>-0.010538143741504727</pre></div></td><td><div class=\"dni-plaintext\"><pre>NaN</pre></div></td></tr></tbody></table></td></tr><tr><td>1</td><td><table><thead><tr><th>Date</th><th>SP500RealReturn</th><th>GS10RealReturn</th><th>CAPE</th></tr></thead><tbody><tr><td><div class=\"dni-plaintext\"><pre>1871-03-01 00:00:00Z</pre></div></td><td><div class=\"dni-plaintext\"><pre>0.014130192567753434</pre></div></td><td><div class=\"dni-plaintext\"><pre>-0.010538143741504727</pre></div></td><td><div class=\"dni-plaintext\"><pre>NaN</pre></div></td></tr></tbody></table></td><td><table><thead><tr><th>Date</th><th>SP500RealReturn</th><th>GS10RealReturn</th><th>CAPE</th></tr></thead><tbody><tr><td><div class=\"dni-plaintext\"><pre>1871-04-01 00:00:00Z</pre></div></td><td><div class=\"dni-plaintext\"><pre>0.06955021088703581</pre></div></td><td><div class=\"dni-plaintext\"><pre>0.041354167217157976</pre></div></td><td><div class=\"dni-plaintext\"><pre>NaN</pre></div></td></tr></tbody></table></td></tr><tr><td>2</td><td><table><thead><tr><th>Date</th><th>SP500RealReturn</th><th>GS10RealReturn</th><th>CAPE</th></tr></thead><tbody><tr><td><div class=\"dni-plaintext\"><pre>1871-04-01 00:00:00Z</pre></div></td><td><div class=\"dni-plaintext\"><pre>0.06955021088703581</pre></div></td><td><div class=\"dni-plaintext\"><pre>0.041354167217157976</pre></div></td><td><div class=\"dni-plaintext\"><pre>NaN</pre></div></td></tr></tbody></table></td><td><table><thead><tr><th>Date</th><th>SP500RealReturn</th><th>GS10RealReturn</th><th>CAPE</th></tr></thead><tbody><tr><td><div class=\"dni-plaintext\"><pre>1871-05-01 00:00:00Z</pre></div></td><td><div class=\"dni-plaintext\"><pre>0.05243727478665406</pre></div></td><td><div class=\"dni-plaintext\"><pre>0.027164370097503422</pre></div></td><td><div class=\"dni-plaintext\"><pre>NaN</pre></div></td></tr></tbody></table></td></tr></tbody></table><style>\r\n",
       ".dni-code-hint {\r\n",
       "    font-style: italic;\r\n",
       "    overflow: hidden;\r\n",
       "    white-space: nowrap;\r\n",
       "}\r\n",
       ".dni-treeview {\r\n",
       "    white-space: nowrap;\r\n",
       "}\r\n",
       ".dni-treeview td {\r\n",
       "    vertical-align: top;\r\n",
       "    text-align: start;\r\n",
       "}\r\n",
       "details.dni-treeview {\r\n",
       "    padding-left: 1em;\r\n",
       "}\r\n",
       "table td {\r\n",
       "    text-align: start;\r\n",
       "}\r\n",
       "table tr { \r\n",
       "    vertical-align: top; \r\n",
       "    margin: 0em 0px;\r\n",
       "}\r\n",
       "table tr td pre \r\n",
       "{ \r\n",
       "    vertical-align: top !important; \r\n",
       "    margin: 0em 0px !important;\r\n",
       "} \r\n",
       "table th {\r\n",
       "    text-align: start;\r\n",
       "}\r\n",
       "</style>"
      ]
     },
     "metadata": {},
     "output_type": "display_data"
    }
   ],
   "source": [
    "shillerObs[..3] |> List.pairwise"
   ]
  },
  {
   "cell_type": "markdown",
   "metadata": {
    "dotnet_interactive": {
     "language": "fsharp"
    },
    "polyglot_notebook": {
     "kernelName": "fsharp"
    }
   },
   "source": [
    "Let's look at returns by decade.\n",
    "\n"
   ]
  },
  {
   "cell_type": "code",
   "execution_count": 30,
   "metadata": {
    "dotnet_interactive": {
     "language": "fsharp"
    },
    "polyglot_notebook": {
     "kernelName": "fsharp"
    },
    "vscode": {
     "languageId": "polyglot-notebook"
    }
   },
   "outputs": [
    {
     "data": {
      "text/html": [
       "<table><thead><tr><th><i>index</i></th><th>Item1</th><th>Item2</th></tr></thead><tbody><tr><td>0</td><td><span>2006-01-01 00:00:00Z</span></td><td><div class=\"dni-plaintext\"><pre>2000</pre></div></td></tr><tr><td>1</td><td><span>2007-01-01 00:00:00Z</span></td><td><div class=\"dni-plaintext\"><pre>2000</pre></div></td></tr><tr><td>2</td><td><span>2008-01-01 00:00:00Z</span></td><td><div class=\"dni-plaintext\"><pre>2000</pre></div></td></tr><tr><td>3</td><td><span>2009-01-01 00:00:00Z</span></td><td><div class=\"dni-plaintext\"><pre>2000</pre></div></td></tr><tr><td>4</td><td><span>2010-01-01 00:00:00Z</span></td><td><div class=\"dni-plaintext\"><pre>2010</pre></div></td></tr><tr><td>5</td><td><span>2011-01-01 00:00:00Z</span></td><td><div class=\"dni-plaintext\"><pre>2010</pre></div></td></tr><tr><td>6</td><td><span>2012-01-01 00:00:00Z</span></td><td><div class=\"dni-plaintext\"><pre>2010</pre></div></td></tr><tr><td>7</td><td><span>2013-01-01 00:00:00Z</span></td><td><div class=\"dni-plaintext\"><pre>2010</pre></div></td></tr><tr><td>8</td><td><span>2014-01-01 00:00:00Z</span></td><td><div class=\"dni-plaintext\"><pre>2010</pre></div></td></tr><tr><td>9</td><td><span>2015-01-01 00:00:00Z</span></td><td><div class=\"dni-plaintext\"><pre>2010</pre></div></td></tr></tbody></table><style>\r\n",
       ".dni-code-hint {\r\n",
       "    font-style: italic;\r\n",
       "    overflow: hidden;\r\n",
       "    white-space: nowrap;\r\n",
       "}\r\n",
       ".dni-treeview {\r\n",
       "    white-space: nowrap;\r\n",
       "}\r\n",
       ".dni-treeview td {\r\n",
       "    vertical-align: top;\r\n",
       "    text-align: start;\r\n",
       "}\r\n",
       "details.dni-treeview {\r\n",
       "    padding-left: 1em;\r\n",
       "}\r\n",
       "table td {\r\n",
       "    text-align: start;\r\n",
       "}\r\n",
       "table tr { \r\n",
       "    vertical-align: top; \r\n",
       "    margin: 0em 0px;\r\n",
       "}\r\n",
       "table tr td pre \r\n",
       "{ \r\n",
       "    vertical-align: top !important; \r\n",
       "    margin: 0em 0px !important;\r\n",
       "} \r\n",
       "table th {\r\n",
       "    text-align: start;\r\n",
       "}\r\n",
       "</style>"
      ]
     },
     "metadata": {},
     "output_type": "display_data"
    }
   ],
   "source": [
    "let dateToDecade (date: DateTime) = floor (float date.Year / 10.0) * 10.0\n",
    "\n",
    "[ for i in [1..10] do \n",
    "    let y = DateTime(2005,1,1).AddYears(i) \n",
    "    y, dateToDecade y ]\n"
   ]
  },
  {
   "cell_type": "markdown",
   "metadata": {
    "dotnet_interactive": {
     "language": "fsharp"
    },
    "polyglot_notebook": {
     "kernelName": "fsharp"
    }
   },
   "source": [
    "Starting with stocks, remember how group by works\n",
    "\n"
   ]
  },
  {
   "cell_type": "code",
   "execution_count": null,
   "metadata": {
    "dotnet_interactive": {
     "language": "fsharp"
    },
    "polyglot_notebook": {
     "kernelName": "fsharp"
    },
    "vscode": {
     "languageId": "polyglot-notebook"
    }
   },
   "outputs": [],
   "source": [
    "[ (\"a\", 1); (\"a\", 2); (\"b\", 3)]\n",
    "|> List.groupBy (fun (x, y) -> x)\n"
   ]
  },
  {
   "cell_type": "markdown",
   "metadata": {
    "dotnet_interactive": {
     "language": "fsharp"
    },
    "polyglot_notebook": {
     "kernelName": "fsharp"
    }
   },
   "source": [
    "Now with the stock data.\n",
    "\n"
   ]
  },
  {
   "cell_type": "code",
   "execution_count": null,
   "metadata": {
    "dotnet_interactive": {
     "language": "fsharp"
    },
    "polyglot_notebook": {
     "kernelName": "fsharp"
    },
    "vscode": {
     "languageId": "polyglot-notebook"
    }
   },
   "outputs": [],
   "source": [
    "shillerObs\n",
    "|> List.groupBy (fun x -> dateToDecade x.Date)\n"
   ]
  },
  {
   "cell_type": "markdown",
   "metadata": {
    "dotnet_interactive": {
     "language": "fsharp"
    },
    "polyglot_notebook": {
     "kernelName": "fsharp"
    }
   },
   "source": [
    "Return by decade\n",
    "\n"
   ]
  },
  {
   "cell_type": "code",
   "execution_count": null,
   "metadata": {
    "dotnet_interactive": {
     "language": "fsharp"
    },
    "polyglot_notebook": {
     "kernelName": "fsharp"
    },
    "vscode": {
     "languageId": "polyglot-notebook"
    }
   },
   "outputs": [],
   "source": [
    "let stockByDecade =\n",
    "    shillerObs\n",
    "    |> List.groupBy (fun x -> dateToDecade x.Date)\n",
    "    |> List.map (fun (decade, obs) ->\n",
    "        let decadeReturn = obs |> List.map (fun x -> x.SP500RealReturn) |> List.sum\n",
    "        decade, decadeReturn)\n"
   ]
  },
  {
   "cell_type": "markdown",
   "metadata": {
    "dotnet_interactive": {
     "language": "fsharp"
    },
    "polyglot_notebook": {
     "kernelName": "fsharp"
    }
   },
   "source": [
    "Plot of stock return by decade\n",
    "\n"
   ]
  },
  {
   "cell_type": "code",
   "execution_count": null,
   "metadata": {
    "dotnet_interactive": {
     "language": "fsharp"
    },
    "polyglot_notebook": {
     "kernelName": "fsharp"
    },
    "vscode": {
     "languageId": "polyglot-notebook"
    }
   },
   "outputs": [],
   "source": [
    "stockByDecade\n",
    "|> Chart.Column\n"
   ]
  },
  {
   "cell_type": "markdown",
   "metadata": {
    "dotnet_interactive": {
     "language": "fsharp"
    },
    "polyglot_notebook": {
     "kernelName": "fsharp"
    }
   },
   "source": [
    "Now the same thing for bonds.\n",
    "\n"
   ]
  },
  {
   "cell_type": "code",
   "execution_count": null,
   "metadata": {
    "dotnet_interactive": {
     "language": "fsharp"
    },
    "polyglot_notebook": {
     "kernelName": "fsharp"
    },
    "vscode": {
     "languageId": "polyglot-notebook"
    }
   },
   "outputs": [],
   "source": [
    "let bondByDecade =\n",
    "    shillerObs\n",
    "    |> List.groupBy (fun x -> dateToDecade x.Date)\n",
    "    |> List.map (fun (decade, obs) ->\n",
    "        let decadeReturn = obs |> List.map (fun x -> x.GS10RealReturn) |> List.sum\n",
    "        decade, decadeReturn)\n",
    "\n",
    "bondByDecade\n",
    "|> Chart.Column\n"
   ]
  },
  {
   "cell_type": "markdown",
   "metadata": {
    "dotnet_interactive": {
     "language": "fsharp"
    },
    "polyglot_notebook": {
     "kernelName": "fsharp"
    }
   },
   "source": [
    "Combine them.\n",
    "\n"
   ]
  },
  {
   "cell_type": "code",
   "execution_count": null,
   "metadata": {
    "dotnet_interactive": {
     "language": "fsharp"
    },
    "polyglot_notebook": {
     "kernelName": "fsharp"
    },
    "vscode": {
     "languageId": "polyglot-notebook"
    }
   },
   "outputs": [],
   "source": [
    "[ Chart.Column(stockByDecade, Name = \"Stocks\")\n",
    "  Chart.Column(bondByDecade, Name = \"Bonds\")]\n",
    "|> Chart.combine\n"
   ]
  },
  {
   "cell_type": "markdown",
   "metadata": {
    "dotnet_interactive": {
     "language": "fsharp"
    },
    "polyglot_notebook": {
     "kernelName": "fsharp"
    }
   },
   "source": [
    "Let's make a cumulative chart of stock returns.\n",
    "\n"
   ]
  },
  {
   "cell_type": "code",
   "execution_count": null,
   "metadata": {
    "dotnet_interactive": {
     "language": "fsharp"
    },
    "polyglot_notebook": {
     "kernelName": "fsharp"
    },
    "vscode": {
     "languageId": "polyglot-notebook"
    }
   },
   "outputs": [],
   "source": [
    "let accStockRet =\n",
    "    let mutable accRet = 0.0\n",
    "    [ for x in shillerObs do \n",
    "        accRet <- accRet + x.SP500RealReturn \n",
    "        x.Date, accRet ]\n",
    "\n",
    "accStockRet[..5]\n"
   ]
  },
  {
   "cell_type": "markdown",
   "metadata": {
    "dotnet_interactive": {
     "language": "fsharp"
    },
    "polyglot_notebook": {
     "kernelName": "fsharp"
    }
   },
   "source": [
    "A line chart of it\n",
    "\n"
   ]
  },
  {
   "cell_type": "code",
   "execution_count": null,
   "metadata": {
    "dotnet_interactive": {
     "language": "fsharp"
    },
    "polyglot_notebook": {
     "kernelName": "fsharp"
    },
    "vscode": {
     "languageId": "polyglot-notebook"
    }
   },
   "outputs": [],
   "source": [
    "accStockRet\n",
    "|> Chart.Line\n"
   ]
  },
  {
   "cell_type": "markdown",
   "metadata": {
    "dotnet_interactive": {
     "language": "fsharp"
    },
    "polyglot_notebook": {
     "kernelName": "fsharp"
    }
   },
   "source": [
    "If we wanted to see how 1 EUR would grow, remember that we have to\n",
    "plot $e^r$.\n",
    "\n"
   ]
  },
  {
   "cell_type": "code",
   "execution_count": null,
   "metadata": {
    "dotnet_interactive": {
     "language": "fsharp"
    },
    "polyglot_notebook": {
     "kernelName": "fsharp"
    },
    "vscode": {
     "languageId": "polyglot-notebook"
    }
   },
   "outputs": [],
   "source": [
    "[ for (date, ret) in accStockRet do date, exp ret]\n",
    "|> Chart.Line\n"
   ]
  },
  {
   "cell_type": "markdown",
   "metadata": {
    "dotnet_interactive": {
     "language": "fsharp"
    },
    "polyglot_notebook": {
     "kernelName": "fsharp"
    }
   },
   "source": [
    "> Practice: Plot a line chart of cumulative **log** returns for bonds.\n",
    "> \n",
    "\n",
    "Let's revisit our simulations, this time with stock and bond returns.\n",
    "\n",
    "Grabbing stock and bond returns.\n",
    "\n"
   ]
  },
  {
   "cell_type": "code",
   "execution_count": null,
   "metadata": {
    "dotnet_interactive": {
     "language": "fsharp"
    },
    "polyglot_notebook": {
     "kernelName": "fsharp"
    },
    "vscode": {
     "languageId": "polyglot-notebook"
    }
   },
   "outputs": [],
   "source": [
    "let stockReturns = shillerObs |> List.map (fun x -> x.SP500RealReturn)\n",
    "let bondReturns = shillerObs |> List.map (fun x -> x.GS10RealReturn)\n"
   ]
  },
  {
   "cell_type": "markdown",
   "metadata": {
    "dotnet_interactive": {
     "language": "fsharp"
    },
    "polyglot_notebook": {
     "kernelName": "fsharp"
    }
   },
   "source": [
    "We need a covariance matrix of stock/bond returns to sample both from a multivariate normal distribution.\n",
    "\n"
   ]
  },
  {
   "cell_type": "code",
   "execution_count": null,
   "metadata": {
    "dotnet_interactive": {
     "language": "fsharp"
    },
    "polyglot_notebook": {
     "kernelName": "fsharp"
    },
    "vscode": {
     "languageId": "polyglot-notebook"
    }
   },
   "outputs": [],
   "source": [
    "let covMatrix = \n",
    "    [[ var stockReturns            ; cov stockReturns bondReturns ]\n",
    "     [ cov stockReturns bondReturns; var bondReturns              ]]\n",
    "    |> matrix\n"
   ]
  },
  {
   "cell_type": "markdown",
   "metadata": {
    "dotnet_interactive": {
     "language": "fsharp"
    },
    "polyglot_notebook": {
     "kernelName": "fsharp"
    }
   },
   "source": [
    "Create a vector of average returns.\n",
    "\n"
   ]
  },
  {
   "cell_type": "code",
   "execution_count": null,
   "metadata": {
    "dotnet_interactive": {
     "language": "fsharp"
    },
    "polyglot_notebook": {
     "kernelName": "fsharp"
    },
    "vscode": {
     "languageId": "polyglot-notebook"
    }
   },
   "outputs": [],
   "source": [
    "let avgStockReturn = stockReturns |> List.average\n",
    "let avgBondReturn = bondReturns |> List.average\n",
    "let avgReturns = [ avgStockReturn; avgBondReturn] |> vector\n"
   ]
  },
  {
   "cell_type": "markdown",
   "metadata": {
    "dotnet_interactive": {
     "language": "fsharp"
    },
    "polyglot_notebook": {
     "kernelName": "fsharp"
    }
   },
   "source": [
    "Annualize returns and covariances so that we sample annual values.\n",
    "\n"
   ]
  },
  {
   "cell_type": "code",
   "execution_count": null,
   "metadata": {
    "dotnet_interactive": {
     "language": "fsharp"
    },
    "polyglot_notebook": {
     "kernelName": "fsharp"
    },
    "vscode": {
     "languageId": "polyglot-notebook"
    }
   },
   "outputs": [],
   "source": [
    "let annualizedCov = covMatrix * 12.0\n",
    "let annualizedRet = avgReturns * 12.0\n"
   ]
  },
  {
   "cell_type": "markdown",
   "metadata": {
    "dotnet_interactive": {
     "language": "fsharp"
    },
    "polyglot_notebook": {
     "kernelName": "fsharp"
    }
   },
   "source": [
    "Our sampler.\n",
    "\n"
   ]
  },
  {
   "cell_type": "code",
   "execution_count": null,
   "metadata": {
    "dotnet_interactive": {
     "language": "fsharp"
    },
    "polyglot_notebook": {
     "kernelName": "fsharp"
    },
    "vscode": {
     "languageId": "polyglot-notebook"
    }
   },
   "outputs": [],
   "source": [
    "let rmultinorm = \n",
    "    Distributions.ContinuousDistribution.multivariateNormal annualizedRet annualizedCov\n"
   ]
  },
  {
   "cell_type": "markdown",
   "metadata": {
    "dotnet_interactive": {
     "language": "fsharp"
    },
    "polyglot_notebook": {
     "kernelName": "fsharp"
    }
   },
   "source": [
    "Try a sample.\n",
    "\n"
   ]
  },
  {
   "cell_type": "code",
   "execution_count": null,
   "metadata": {
    "dotnet_interactive": {
     "language": "fsharp"
    },
    "polyglot_notebook": {
     "kernelName": "fsharp"
    },
    "vscode": {
     "languageId": "polyglot-notebook"
    }
   },
   "outputs": [],
   "source": [
    "let s = rmultinorm.Sample()\n"
   ]
  },
  {
   "cell_type": "markdown",
   "metadata": {
    "dotnet_interactive": {
     "language": "fsharp"
    },
    "polyglot_notebook": {
     "kernelName": "fsharp"
    }
   },
   "source": [
    "Stock return\n",
    "\n"
   ]
  },
  {
   "cell_type": "code",
   "execution_count": null,
   "metadata": {
    "dotnet_interactive": {
     "language": "fsharp"
    },
    "polyglot_notebook": {
     "kernelName": "fsharp"
    },
    "vscode": {
     "languageId": "polyglot-notebook"
    }
   },
   "outputs": [],
   "source": [
    "s[0]\n"
   ]
  },
  {
   "cell_type": "markdown",
   "metadata": {
    "dotnet_interactive": {
     "language": "fsharp"
    },
    "polyglot_notebook": {
     "kernelName": "fsharp"
    }
   },
   "source": [
    "Bond return\n",
    "\n"
   ]
  },
  {
   "cell_type": "code",
   "execution_count": null,
   "metadata": {
    "dotnet_interactive": {
     "language": "fsharp"
    },
    "polyglot_notebook": {
     "kernelName": "fsharp"
    },
    "vscode": {
     "languageId": "polyglot-notebook"
    }
   },
   "outputs": [],
   "source": [
    "s[1]\n"
   ]
  },
  {
   "cell_type": "markdown",
   "metadata": {
    "dotnet_interactive": {
     "language": "fsharp"
    },
    "polyglot_notebook": {
     "kernelName": "fsharp"
    }
   },
   "source": [
    "1k draws of 30 year investment returns.\n",
    "\n"
   ]
  },
  {
   "cell_type": "code",
   "execution_count": null,
   "metadata": {
    "dotnet_interactive": {
     "language": "fsharp"
    },
    "polyglot_notebook": {
     "kernelName": "fsharp"
    },
    "vscode": {
     "languageId": "polyglot-notebook"
    }
   },
   "outputs": [],
   "source": [
    "type MarketDraw = { StockReturn: float; BondReturn: float}\n",
    "\n",
    "let stockBondDraws =\n",
    "    [ for i in [1..1000] do\n",
    "        [ for  y in [1..30] do\n",
    "            let s = rmultinorm.Sample()\n",
    "            { StockReturn = s[0]; BondReturn = s[1]} ]]\n",
    "\n",
    "let firstDraw = stockBondDraws[0]\n"
   ]
  },
  {
   "cell_type": "markdown",
   "metadata": {
    "dotnet_interactive": {
     "language": "fsharp"
    },
    "polyglot_notebook": {
     "kernelName": "fsharp"
    }
   },
   "source": [
    "Our wealth evolution setup.\n",
    "\n"
   ]
  },
  {
   "cell_type": "code",
   "execution_count": null,
   "metadata": {
    "dotnet_interactive": {
     "language": "fsharp"
    },
    "polyglot_notebook": {
     "kernelName": "fsharp"
    },
    "vscode": {
     "languageId": "polyglot-notebook"
    }
   },
   "outputs": [],
   "source": [
    "let expenses = 50_000.0\n",
    "let initialWealth = 1_000_000.0\n"
   ]
  },
  {
   "cell_type": "markdown",
   "metadata": {
    "dotnet_interactive": {
     "language": "fsharp"
    },
    "polyglot_notebook": {
     "kernelName": "fsharp"
    }
   },
   "source": [
    "We accumulate wealth from log returns this time.\n",
    "\n"
   ]
  },
  {
   "cell_type": "code",
   "execution_count": null,
   "metadata": {
    "dotnet_interactive": {
     "language": "fsharp"
    },
    "polyglot_notebook": {
     "kernelName": "fsharp"
    },
    "vscode": {
     "languageId": "polyglot-notebook"
    }
   },
   "outputs": [],
   "source": [
    "let stockWealthEvolution =\n",
    "    [ for life in stockBondDraws do\n",
    "        let mutable wealth = initialWealth\n",
    "        [ for r in life do\n",
    "            // We'll take expenses out at the start of the year.\n",
    "            if wealth > expenses then\n",
    "                wealth <- (wealth - expenses) * exp r.StockReturn\n",
    "            else\n",
    "                wealth <- 0.0\n",
    "            wealth ] ]\n",
    "\n",
    "let stockTerminalWealth = [ for x in stockWealthEvolution do x[x.Length-1] ]\n"
   ]
  },
  {
   "cell_type": "markdown",
   "metadata": {
    "dotnet_interactive": {
     "language": "fsharp"
    },
    "polyglot_notebook": {
     "kernelName": "fsharp"
    }
   },
   "source": [
    "Chance of going broke with stocks?\n",
    "\n"
   ]
  },
  {
   "cell_type": "code",
   "execution_count": null,
   "metadata": {
    "dotnet_interactive": {
     "language": "fsharp"
    },
    "polyglot_notebook": {
     "kernelName": "fsharp"
    },
    "vscode": {
     "languageId": "polyglot-notebook"
    }
   },
   "outputs": [],
   "source": [
    "let nBrokeStock =\n",
    "    stockTerminalWealth\n",
    "    |> List.filter (fun x -> x <= 0.0)\n",
    "    |> List.length\n",
    "    |> float\n",
    "\n",
    "let chanceBrokeStock = nBrokeStock / (float stockTerminalWealth.Length)    \n",
    "\n",
    "printfn $\"chance broke=%.3f{chanceBrokeStock}\"\n"
   ]
  },
  {
   "cell_type": "markdown",
   "metadata": {
    "dotnet_interactive": {
     "language": "fsharp"
    },
    "polyglot_notebook": {
     "kernelName": "fsharp"
    }
   },
   "source": [
    "Same thing for bonds.\n",
    "\n"
   ]
  },
  {
   "cell_type": "code",
   "execution_count": null,
   "metadata": {
    "dotnet_interactive": {
     "language": "fsharp"
    },
    "polyglot_notebook": {
     "kernelName": "fsharp"
    },
    "vscode": {
     "languageId": "polyglot-notebook"
    }
   },
   "outputs": [],
   "source": [
    "let bondWealthEvolution =\n",
    "    [ for life in stockBondDraws do\n",
    "        let mutable wealth = initialWealth\n",
    "        [ for r in life do\n",
    "            // We'll take expenses out at the start of the year.\n",
    "            if wealth > expenses then\n",
    "                wealth <- (wealth - expenses) * exp r.BondReturn\n",
    "            else\n",
    "                wealth <- 0.0\n",
    "            wealth ] ]\n",
    "\n",
    "let bondTerminalWealth = [ for x in bondWealthEvolution do x[x.Length-1] ]\n"
   ]
  },
  {
   "cell_type": "markdown",
   "metadata": {
    "dotnet_interactive": {
     "language": "fsharp"
    },
    "polyglot_notebook": {
     "kernelName": "fsharp"
    }
   },
   "source": [
    "Chance of going broke with stocks?\n",
    "\n"
   ]
  },
  {
   "cell_type": "code",
   "execution_count": null,
   "metadata": {
    "dotnet_interactive": {
     "language": "fsharp"
    },
    "polyglot_notebook": {
     "kernelName": "fsharp"
    },
    "vscode": {
     "languageId": "polyglot-notebook"
    }
   },
   "outputs": [],
   "source": [
    "let nBrokeBond =\n",
    "    bondTerminalWealth\n",
    "    |> List.filter (fun x -> x <= 0.0)\n",
    "    |> List.length\n",
    "    |> float\n",
    "\n",
    "let chanceBrokeBond = nBrokeBond / (float bondTerminalWealth.Length)    \n",
    "\n",
    "printfn $\"chance broke=%.3f{chanceBrokeBond}\"\n"
   ]
  },
  {
   "cell_type": "markdown",
   "metadata": {
    "dotnet_interactive": {
     "language": "fsharp"
    },
    "polyglot_notebook": {
     "kernelName": "fsharp"
    }
   },
   "source": [
    "Rather than repeating code, a function to do all that.\n",
    "\n"
   ]
  },
  {
   "cell_type": "code",
   "execution_count": null,
   "metadata": {
    "dotnet_interactive": {
     "language": "fsharp"
    },
    "polyglot_notebook": {
     "kernelName": "fsharp"
    },
    "vscode": {
     "languageId": "polyglot-notebook"
    }
   },
   "outputs": [],
   "source": [
    "let calcChanceBroke expenses initialWealth lives =\n",
    "    let wealthEvolution =\n",
    "        [ for life in lives do\n",
    "            let mutable wealth = initialWealth\n",
    "            [ for r in life do\n",
    "                // We'll take expenses out at the start of the year.\n",
    "                if wealth > expenses then\n",
    "                    wealth <- (wealth - expenses) * exp r\n",
    "                else\n",
    "                    wealth <- 0.0\n",
    "                wealth ] ]\n",
    "\n",
    "    let terminalWealth = [ for x in wealthEvolution do x[x.Length-1] ]\n",
    "\n",
    "    (** Chance of going broke with stocks? *)\n",
    "    let nBroke =\n",
    "        terminalWealth\n",
    "        |> List.filter (fun x -> x <= 0.0)\n",
    "        |> List.length\n",
    "        |> float\n",
    "\n",
    "    let chanceBroke = nBroke / (float terminalWealth.Length)    \n",
    "    chanceBroke\n"
   ]
  },
  {
   "cell_type": "markdown",
   "metadata": {
    "dotnet_interactive": {
     "language": "fsharp"
    },
    "polyglot_notebook": {
     "kernelName": "fsharp"
    }
   },
   "source": [
    "Try it for stocks.\n",
    "\n"
   ]
  },
  {
   "cell_type": "code",
   "execution_count": null,
   "metadata": {
    "dotnet_interactive": {
     "language": "fsharp"
    },
    "polyglot_notebook": {
     "kernelName": "fsharp"
    },
    "vscode": {
     "languageId": "polyglot-notebook"
    }
   },
   "outputs": [],
   "source": [
    "let stockOnlyLives = \n",
    "    [ for life in stockBondDraws do\n",
    "        [ for r in life do r.StockReturn ]]\n",
    "\n",
    "calcChanceBroke 50_000 1_000_000 stockOnlyLives\n"
   ]
  },
  {
   "cell_type": "markdown",
   "metadata": {
    "dotnet_interactive": {
     "language": "fsharp"
    },
    "polyglot_notebook": {
     "kernelName": "fsharp"
    }
   },
   "source": [
    "Some different bond/stock ratios.\n",
    "\n"
   ]
  },
  {
   "cell_type": "code",
   "execution_count": null,
   "metadata": {
    "dotnet_interactive": {
     "language": "fsharp"
    },
    "polyglot_notebook": {
     "kernelName": "fsharp"
    },
    "vscode": {
     "languageId": "polyglot-notebook"
    }
   },
   "outputs": [],
   "source": [
    "let bondStockRatios = [0.0 .. 0.2 .. 1.0]\n",
    "let bondStockRatioLives =\n",
    "    [ for ratio in bondStockRatios do \n",
    "        [ for life in stockBondDraws do\n",
    "            [ for r in life do ratio * r.BondReturn + (1.0 - ratio) * r.StockReturn ]]]\n",
    "\n",
    "[ for ratioLives in bondStockRatioLives do \n",
    "    calcChanceBroke 50_000 1_000_000 ratioLives ]\n"
   ]
  },
  {
   "cell_type": "markdown",
   "metadata": {
    "dotnet_interactive": {
     "language": "fsharp"
    },
    "polyglot_notebook": {
     "kernelName": "fsharp"
    }
   },
   "source": [
    "What are some things to consider?\n",
    "\n"
   ]
  }
 ],
 "metadata": {
  "kernelspec": {
   "display_name": ".NET (C#)",
   "language": "C#",
   "name": ".net-csharp"
  },
  "polyglot_notebook": {
   "kernelInfo": {
    "defaultKernelName": "csharp",
    "items": [
     {
      "aliases": [
       "c#",
       "C#"
      ],
      "languageName": "C#",
      "name": "csharp"
     },
     {
      "aliases": [],
      "languageName": null,
      "name": ".NET"
     },
     {
      "aliases": [
       "f#",
       "F#"
      ],
      "languageName": "F#",
      "name": "fsharp"
     },
     {
      "aliases": [],
      "languageName": "HTML",
      "name": "html"
     },
     {
      "aliases": [],
      "languageName": "KQL",
      "name": "kql"
     },
     {
      "aliases": [],
      "languageName": "Mermaid",
      "name": "mermaid"
     },
     {
      "aliases": [
       "powershell"
      ],
      "languageName": "PowerShell",
      "name": "pwsh"
     },
     {
      "aliases": [],
      "languageName": "SQL",
      "name": "sql"
     },
     {
      "aliases": [],
      "languageName": null,
      "name": "value"
     },
     {
      "aliases": [
       "frontend"
      ],
      "languageName": null,
      "name": "vscode"
     }
    ]
   }
  }
 },
 "nbformat": 4,
 "nbformat_minor": 2
}
